{
 "cells": [
  {
   "cell_type": "code",
   "execution_count": 1,
   "metadata": {},
   "outputs": [],
   "source": [
    "import numpy as np\n",
    "import pandas as pd\n",
    "\n",
    "import matplotlib.pyplot as plt\n",
    "import seaborn as sns\n",
    "\n",
    "import plotly.express as px\n",
    "import plotly.graph_objects as go\n",
    "import openpyxl\n",
    "import time\n",
    "\n",
    "import googlemaps\n",
    "from tqdm import tqdm  # for progress bar\n",
    "\n",
    "import folium\n",
    "from folium.plugins import MarkerCluster\n"
   ]
  },
  {
   "cell_type": "code",
   "execution_count": null,
   "metadata": {},
   "outputs": [],
   "source": [
    "df = pd.read_excel(r\"Enter the solar battery storage manufacturers excel file path\")\n",
    "df.head()"
   ]
  },
  {
   "cell_type": "code",
   "execution_count": null,
   "metadata": {},
   "outputs": [],
   "source": [
    "df.columns"
   ]
  },
  {
   "cell_type": "code",
   "execution_count": null,
   "metadata": {},
   "outputs": [],
   "source": [
    "new_df = df [[ 'Company_Name','Company_Name_URL', 'Area', 'Category', 'Technology',\n",
    "        'company_name', 'address', 'phone_no',\n",
    "       'company_email', 'company_website', 'country',\n",
    "       'component_types', 'storage_system', 'technology', 'Inverter',\n",
    "       'power_rangekWp']]\n",
    "\n",
    "new_df"
   ]
  },
  {
   "cell_type": "code",
   "execution_count": null,
   "metadata": {},
   "outputs": [],
   "source": [
    "new_df.rename(columns = {'Company_Name':'general_company_name', 'Area':'state/province', \n",
    "                              'company_name':'company_name_(chinese)','power_rangekWp':'power_range_(kWp)'}, inplace = True)\n",
    "\n",
    "new_df.columns"
   ]
  },
  {
   "cell_type": "code",
   "execution_count": null,
   "metadata": {},
   "outputs": [],
   "source": [
    "new_df.info()"
   ]
  },
  {
   "cell_type": "code",
   "execution_count": null,
   "metadata": {},
   "outputs": [],
   "source": [
    "missing_values = new_df.isnull().sum()\n",
    "missing_values\n"
   ]
  },
  {
   "cell_type": "code",
   "execution_count": null,
   "metadata": {},
   "outputs": [],
   "source": [
    "dropped_rows = new_df[new_df['address'].isnull()]\n",
    "\n",
    "print(dropped_rows)"
   ]
  },
  {
   "cell_type": "code",
   "execution_count": null,
   "metadata": {},
   "outputs": [],
   "source": [
    "# First, let's see how many null values we have in the address column\n",
    "print(\"Number of null values in address column:\", new_df['address'].isnull().sum())\n",
    "\n",
    "# Drop rows where address is null and create a new clean dataframe\n",
    "new_df = new_df.dropna(subset=['address'])\n",
    "\n",
    "# Verify the rows were dropped\n",
    "print(\"\\nOriginal dataset shape:\", df.shape)\n",
    "print(\"Clean dataset shape:\", new_df.shape)\n"
   ]
  },
  {
   "cell_type": "code",
   "execution_count": 11,
   "metadata": {},
   "outputs": [],
   "source": [
    "# Convert list columns to strings before dropping duplicates\n",
    "list_columns = ['Technology_List', 'Category_List']\n",
    "for col in list_columns:\n",
    "    if col in new_df.columns:\n",
    "        new_df[col] = new_df[col].astype(str)\n",
    "\n",
    "# Now drop duplicates\n",
    "new_df = new_df.drop_duplicates()"
   ]
  },
  {
   "cell_type": "code",
   "execution_count": 12,
   "metadata": {},
   "outputs": [],
   "source": [
    "# 5. Data transformation\n",
    "# If `power_range_(kWp)` is numeric but stored as object due to inconsistent formats\n",
    "new_df['power_range_(kWp)'] = pd.to_numeric(new_df['power_range_(kWp)'], errors='coerce')\n"
   ]
  },
  {
   "cell_type": "code",
   "execution_count": 13,
   "metadata": {},
   "outputs": [],
   "source": [
    "# Ensure URLs and emails are valid (you can use regex for a basic check)\n",
    "\n",
    "new_df['company_website'] = new_df['company_website'].apply(lambda x: x if pd.notnull(x) and x.startswith('http') else 'Unknown')\n",
    "new_df['company_email'] = new_df['company_email'].apply(lambda x: x if pd.notnull(x) and '@' in x else 'Unknown')\n"
   ]
  },
  {
   "cell_type": "code",
   "execution_count": null,
   "metadata": {},
   "outputs": [],
   "source": [
    "new_df"
   ]
  },
  {
   "cell_type": "code",
   "execution_count": null,
   "metadata": {},
   "outputs": [],
   "source": [
    "new_df.columns"
   ]
  },
  {
   "cell_type": "code",
   "execution_count": null,
   "metadata": {},
   "outputs": [],
   "source": [
    "summary_stats = new_df.describe(include='all')\n",
    "summary_stats"
   ]
  },
  {
   "cell_type": "code",
   "execution_count": 17,
   "metadata": {},
   "outputs": [],
   "source": [
    "companies_by_state = new_df['state/province'].value_counts().reset_index()"
   ]
  },
  {
   "cell_type": "code",
   "execution_count": null,
   "metadata": {},
   "outputs": [],
   "source": [
    "companies_by_state.columns = ['State/Province', 'Number of Companies']\n",
    "\n",
    "companies_by_state"
   ]
  },
  {
   "cell_type": "code",
   "execution_count": null,
   "metadata": {},
   "outputs": [],
   "source": [
    "# Set the style and palette\n",
    "sns.set_theme(style=\"whitegrid\")\n",
    "palette = sns.color_palette(\"viridis\", len(companies_by_state))\n",
    "\n",
    "\n",
    "\n",
    "# Plotting the results\n",
    "plt.figure(figsize=(24, 20))\n",
    "ax = sns.barplot(\n",
    "    y='State/Province', \n",
    "    x='Number of Companies', \n",
    "    data=companies_by_state, \n",
    "    palette=palette\n",
    ")\n",
    "\n",
    "# Add titles and labels\n",
    "plt.title('Number of Companies by State/Province', fontsize=16, weight='bold')\n",
    "plt.xlabel('Number of Companies', fontsize=14)\n",
    "plt.ylabel('State/Province', fontsize=14)\n",
    "plt.xticks(fontsize=12)\n",
    "plt.yticks(fontsize=12)\n",
    "\n",
    "# Add data labels to each bar\n",
    "for index, value in enumerate(companies_by_state['Number of Companies']):\n",
    "    ax.text(value, index, f'{value}', color='black', va=\"center\", ha=\"left\", fontsize=12)\n",
    "\n",
    "# Remove top and right spines for cleaner look\n",
    "sns.despine(left=True, bottom=True)\n",
    "\n",
    "plt.show()"
   ]
  },
  {
   "cell_type": "code",
   "execution_count": null,
   "metadata": {},
   "outputs": [],
   "source": [
    "# Missing value heatmap\n",
    "plt.figure(figsize=(24, 16))\n",
    "sns.heatmap(new_df.isnull(), cbar=False, cmap='viridis', yticklabels=False)\n",
    "plt.title('Heatmap of Missing Values')\n",
    "plt.show()"
   ]
  },
  {
   "cell_type": "code",
   "execution_count": null,
   "metadata": {},
   "outputs": [],
   "source": [
    "# Count plot for `Category`\n",
    "\n",
    "plt.figure(figsize=(20, 12))\n",
    "sns.countplot(y='Category', data=new_df, order=new_df['Category'].value_counts().index)\n",
    "plt.title('Distribution of Categories')\n",
    "plt.xlabel('Count')\n",
    "plt.ylabel('Category')\n",
    "plt.show()"
   ]
  },
  {
   "cell_type": "code",
   "execution_count": null,
   "metadata": {},
   "outputs": [],
   "source": [
    "# Ensure 'Technology' column is string type\n",
    "new_df['Technology'] = new_df['Technology'].astype(str)\n",
    "\n",
    "# Split the 'Technology' column into a list\n",
    "new_df['Technology_List'] = new_df['Technology'].str.split(',')\n",
    "\n",
    "# Explode the 'Technology_List' into separate rows\n",
    "df_exploded = new_df.explode('Technology_List')\n",
    "\n",
    "# Remove leading and trailing whitespace\n",
    "df_exploded['Technology_List'] = df_exploded['Technology_List'].str.strip()\n",
    "\n",
    "# Count the occurrences of each technology\n",
    "technology_counts = df_exploded['Technology_List'].value_counts().reset_index()\n",
    "\n",
    "# Rename columns for clarity\n",
    "technology_counts.columns = ['Technology', 'Number of Companies']\n",
    "\n",
    "# Display the result\n",
    "print(technology_counts)"
   ]
  },
  {
   "cell_type": "code",
   "execution_count": null,
   "metadata": {},
   "outputs": [],
   "source": [
    "# Sort the technologies for better visualization\n",
    "technology_counts = technology_counts.sort_values(by='Number of Companies', ascending=False)\n",
    "\n",
    "# Set the style\n",
    "sns.set(style=\"whitegrid\")\n",
    "\n",
    "# Create a bar plot\n",
    "plt.figure(figsize=(14, 8))\n",
    "bar_plot = sns.barplot(\n",
    "    x='Number of Companies', \n",
    "    y='Technology', \n",
    "    data=technology_counts,\n",
    "    palette='coolwarm'\n",
    ")\n",
    "\n",
    "# Add title and labels\n",
    "bar_plot.set_title('Number of Companies by Technology', fontsize=20, weight='bold')\n",
    "bar_plot.set_xlabel('Number of Companies', fontsize=14, weight='bold')\n",
    "bar_plot.set_ylabel('Technology', fontsize=14, weight='bold')\n",
    "\n",
    "# Add counts on the bars\n",
    "for index, value in enumerate(technology_counts['Number of Companies']):\n",
    "    bar_plot.text(value, index, f' {value}', color='black', ha=\"left\", fontsize=12)\n",
    "\n",
    "# Improve layout and add gridlines\n",
    "plt.tight_layout()\n",
    "plt.grid(axis='x', linestyle='--', alpha=0.7)\n",
    "\n",
    "# Show the plot\n",
    "plt.show()"
   ]
  },
  {
   "cell_type": "code",
   "execution_count": null,
   "metadata": {},
   "outputs": [],
   "source": [
    "# Replace NaNs and empty strings with a placeholder\n",
    "new_df['state/province'] = new_df['state/province'].replace('', 'Unknown State/Province').fillna('Unknown State/Province')\n",
    "new_df['Category'] = new_df['Category'].replace('', 'Unknown Category').fillna('Unknown Category')\n",
    "\n",
    "# Split the 'Category' column into a list of unique categories\n",
    "new_df['Category_List'] = new_df['Category'].str.split(',')\n",
    "\n",
    "# Explode the 'Category_List' into separate rows\n",
    "df_exploded = new_df.explode('Category_List')\n",
    "\n",
    "# Remove leading and trailing whitespace\n",
    "df_exploded['Category_List'] = df_exploded['Category_List'].str.strip()\n",
    "\n",
    "# Add a count column (optional, useful for the sunburst chart)\n",
    "df_exploded['Count'] = 1\n",
    "\n",
    "# Plot Sunburst Chart\n",
    "fig = px.sunburst(\n",
    "    df_exploded,\n",
    "    path=['state/province', 'Category_List'],  # Use 'state/province' instead of 'country'\n",
    "    values='Count',  # Use 'Count' for the size of the sectors\n",
    "    title='Company Distribution by State/Province and Unique Categories',\n",
    "    hover_data={'Count': True}  # Display 'Count' in hover data\n",
    ")\n",
    "\n",
    "# Update layout for better aesthetics\n",
    "fig.update_layout(\n",
    "    title_font_size=24,\n",
    "    title_x=0.5,\n",
    "    uniformtext=dict(minsize=12, mode='hide'),  # Hide text for small sectors\n",
    "    width=1200,  # Make the chart larger\n",
    "    height=900  # Make the chart larger\n",
    ")\n",
    "\n",
    "fig.show()"
   ]
  },
  {
   "cell_type": "code",
   "execution_count": null,
   "metadata": {},
   "outputs": [],
   "source": [
    "# Prepare data for the Sankey diagram\n",
    "sankey_data = new_df.groupby(['state/province', 'Category']).size().reset_index(name='Count')\n",
    "\n",
    "# Create unique lists for source and target\n",
    "states = list(sankey_data['state/province'].unique())\n",
    "categories = list(sankey_data['Category'].unique())\n",
    "\n",
    "# Create index mappings for the states and categories\n",
    "state_indices = {state: i for i, state in enumerate(states)}\n",
    "category_indices = {category: i + len(states) for i, category in enumerate(categories)}\n",
    "\n",
    "# Map source and target to their respective indices\n",
    "source_indices = sankey_data['state/province'].map(state_indices)\n",
    "target_indices = sankey_data['Category'].map(category_indices)\n",
    "\n",
    "# Colors for nodes\n",
    "colors = ['#636EFA', '#EF553B', '#00CC96', '#AB63FA', '#FFA15A', '#19D3F3', '#FF6692', '#B6E880', '#FF97FF', '#FECB52']\n",
    "node_colors = [colors[i % len(colors)] for i in range(len(states) + len(categories))]\n",
    "\n",
    "# Create the Sankey diagram\n",
    "fig = go.Figure(go.Sankey(\n",
    "    node=dict(\n",
    "        pad=15,\n",
    "        thickness=30,\n",
    "        line=dict(color=\"black\", width=0.5),\n",
    "        label=states + categories,\n",
    "        color=node_colors\n",
    "    ),\n",
    "    link=dict(\n",
    "        source=source_indices,\n",
    "        target=target_indices,\n",
    "        value=sankey_data['Count'],\n",
    "        color=[f'rgba(63, 81, 181, {0.5 + 0.1 * (v / max(sankey_data[\"Count\"]))})' for v in sankey_data['Count']] # Gradient color based on value\n",
    "    )\n",
    "))\n",
    "\n",
    "# Update layout\n",
    "fig.update_layout(\n",
    "    title_text=\"Sankey Diagram from State/Province to Category\",\n",
    "    font_size=12,\n",
    "    width=1000,\n",
    "    height=1000\n",
    ")\n",
    "\n",
    "fig.show()"
   ]
  },
  {
   "cell_type": "code",
   "execution_count": null,
   "metadata": {},
   "outputs": [],
   "source": [
    "# First, fill any NaN values with a placeholder\n",
    "# First create the locat DataFrame from new_df\n",
    "locat = new_df[['general_company_name', 'address', 'state/province', 'country']].copy()\n",
    "\n",
    "# Fill any NaN values with a placeholder\n",
    "locat['country'] = locat['country'].fillna('Unknown')\n",
    "\n",
    "# Convert all columns to string type\n",
    "locat['address'] = locat['address'].astype(str)\n",
    "locat['general_company_name'] = locat['general_company_name'].astype(str)\n",
    "locat['state/province'] = locat['state/province'].astype(str)\n",
    "locat['country'] = locat['country'].astype(str)\n",
    "\n",
    "# Now create the full_address\n",
    "locat['full_address'] = locat[['general_company_name', 'address', 'state/province', 'country']].apply(lambda x: ','.join(x), axis=1)\n",
    "\n",
    "# Print the first few rows to verify \n",
    "print(locat.head())\n",
    "\n",
    "# Print shape to see how many records we have\n",
    "print(\"\\nShape of the dataset:\", locat.shape)"
   ]
  },
  {
   "cell_type": "code",
   "execution_count": 27,
   "metadata": {},
   "outputs": [],
   "source": [
    "# locat['full_address'] = locat[['general_company_name','address', 'state/province', 'country']].apply(lambda x: '-'.join(x), axis=1)\n",
    "# locat"
   ]
  },
  {
   "cell_type": "code",
   "execution_count": null,
   "metadata": {},
   "outputs": [],
   "source": [
    "locat['full_address'].head()"
   ]
  },
  {
   "cell_type": "code",
   "execution_count": null,
   "metadata": {},
   "outputs": [],
   "source": [
    "locat.columns"
   ]
  },
  {
   "cell_type": "code",
   "execution_count": null,
   "metadata": {},
   "outputs": [],
   "source": [
    "# Install required package\n",
    "#!pip install googlemaps\n",
    "\n",
    "\n",
    "\n",
    "def get_coordinates_google(address, api_key):\n",
    "    \"\"\"\n",
    "    Get coordinates using Google Maps Geocoding API\n",
    "    \"\"\"\n",
    "    gmaps = googlemaps.Client(key=api_key)\n",
    "    \n",
    "    try:\n",
    "        # Add delay to respect rate limits\n",
    "        time.sleep(0.1)\n",
    "        \n",
    "        # Geocode the address\n",
    "        result = gmaps.geocode(address)\n",
    "        \n",
    "        if result:\n",
    "            location = result[0]['geometry']['location']\n",
    "            return (location['lat'], location['lng'])\n",
    "        return None\n",
    "        \n",
    "    except Exception as e:\n",
    "        print(f\"Error with address: {address}\")\n",
    "        print(f\"Error message: {str(e)}\")\n",
    "        return None\n",
    "\n",
    "def batch_geocode(df, api_key):\n",
    "    \"\"\"\n",
    "    Batch process addresses with progress bar\n",
    "    \"\"\"\n",
    "    # Initialize empty lists for coordinates\n",
    "    lats = []\n",
    "    lngs = []\n",
    "    \n",
    "    # Create progress bar\n",
    "    for idx, row in tqdm(df.iterrows(), total=len(df), desc=\"Geocoding addresses\"):\n",
    "        # Combine address components\n",
    "        address = f\"{row['general_company_name']},{row['address']}, {row['state/province']}, {row['country']}\"\n",
    "        \n",
    "        # Get coordinates\n",
    "        coords = get_coordinates_google(address, api_key)\n",
    "        \n",
    "        if coords:\n",
    "            lats.append(coords[0])\n",
    "            lngs.append(coords[1])\n",
    "        else:\n",
    "            lats.append(None)\n",
    "            lngs.append(None)\n",
    "    \n",
    "    return lats, lngs\n",
    "\n",
    "# Your Google Maps API key\n",
    "GOOGLE_API_KEY = 'Enter google maps api key (geocoding API)'  # Replace with your API key\n",
    "\n",
    "# Process the addresses\n",
    "print(\"Starting geocoding process...\")\n",
    "latitudes, longitudes = batch_geocode(locat, GOOGLE_API_KEY)\n",
    "\n",
    "# Add coordinates to dataframe\n",
    "locat['latitude'] = latitudes\n",
    "locat['longitude'] = longitudes\n",
    "\n",
    "# Save results to CSV\n",
    "locat.to_csv('geocoded_locations_google.csv', index=False)\n",
    "\n",
    "# Print statistics\n",
    "success_rate = (locat['latitude'].notna().sum() / len(locat)) * 100\n",
    "print(f\"\\nGeocoding success rate: {success_rate:.2f}%\")\n",
    "\n",
    "# Display first few results\n",
    "print(\"\\nFirst few results:\")\n",
    "print(locat[['address', 'latitude', 'longitude']].head())"
   ]
  },
  {
   "cell_type": "code",
   "execution_count": 32,
   "metadata": {},
   "outputs": [],
   "source": [
    "\n",
    "# Create a map centered on China\n",
    "m = folium.Map(location=[35.8617, 104.1954], zoom_start=4)\n",
    "\n",
    "# Add a marker cluster\n",
    "marker_cluster = MarkerCluster().add_to(m)\n",
    "\n",
    "# Add markers for each location\n",
    "for idx, row in locat.iterrows():\n",
    "    if pd.notna(row['latitude']) and pd.notna(row['longitude']):\n",
    "        folium.Marker(\n",
    "            [row['latitude'], row['longitude']],\n",
    "            popup=f\"<b>{row['general_company_name']}</b><br>{row['address']}\",\n",
    "            icon=folium.Icon(color='red', icon='info-sign')\n",
    "        ).add_to(marker_cluster)\n",
    "\n",
    "# Save the map\n",
    "m.save('china_companies_map.html')"
   ]
  }
 ],
 "metadata": {
  "kernelspec": {
   "display_name": "Python 3",
   "language": "python",
   "name": "python3"
  },
  "language_info": {
   "codemirror_mode": {
    "name": "ipython",
    "version": 3
   },
   "file_extension": ".py",
   "mimetype": "text/x-python",
   "name": "python",
   "nbconvert_exporter": "python",
   "pygments_lexer": "ipython3",
   "version": "3.13.0"
  }
 },
 "nbformat": 4,
 "nbformat_minor": 2
}
